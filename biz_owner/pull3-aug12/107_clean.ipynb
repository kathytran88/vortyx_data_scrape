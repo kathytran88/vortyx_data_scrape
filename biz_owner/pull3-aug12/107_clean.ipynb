{
 "cells": [
  {
   "cell_type": "code",
   "execution_count": 1,
   "metadata": {},
   "outputs": [
    {
     "data": {
      "text/html": [
       "<div>\n",
       "<style scoped>\n",
       "    .dataframe tbody tr th:only-of-type {\n",
       "        vertical-align: middle;\n",
       "    }\n",
       "\n",
       "    .dataframe tbody tr th {\n",
       "        vertical-align: top;\n",
       "    }\n",
       "\n",
       "    .dataframe thead th {\n",
       "        text-align: right;\n",
       "    }\n",
       "</style>\n",
       "<table border=\"1\" class=\"dataframe\">\n",
       "  <thead>\n",
       "    <tr style=\"text-align: right;\">\n",
       "      <th></th>\n",
       "      <th>title</th>\n",
       "      <th>placeUrl</th>\n",
       "      <th>website</th>\n",
       "      <th>status</th>\n",
       "      <th>subtitle</th>\n",
       "      <th>rating</th>\n",
       "      <th>reviewCount</th>\n",
       "      <th>category</th>\n",
       "      <th>address</th>\n",
       "      <th>phoneNumber</th>\n",
       "      <th>searchQuery</th>\n",
       "      <th>email</th>\n",
       "      <th>phoneFromWebsite</th>\n",
       "    </tr>\n",
       "  </thead>\n",
       "  <tbody>\n",
       "    <tr>\n",
       "      <th>0</th>\n",
       "      <td>Izzy's Tiny Paws Boutique</td>\n",
       "      <td>https://www.google.com/maps/place/Izzy%27s+Tin...</td>\n",
       "      <td>NaN</td>\n",
       "      <td>No website found</td>\n",
       "      <td>NaN</td>\n",
       "      <td>5.0</td>\n",
       "      <td>5.0</td>\n",
       "      <td>Pet store</td>\n",
       "      <td>NaN</td>\n",
       "      <td>+1 718-415-3796</td>\n",
       "      <td>small pet in Queens or Bronx</td>\n",
       "      <td>NaN</td>\n",
       "      <td>NaN</td>\n",
       "    </tr>\n",
       "    <tr>\n",
       "      <th>1</th>\n",
       "      <td>Pet Crazy</td>\n",
       "      <td>https://www.google.com/maps/place/Pet+Crazy/da...</td>\n",
       "      <td>NaN</td>\n",
       "      <td>No website found</td>\n",
       "      <td>NaN</td>\n",
       "      <td>4.3</td>\n",
       "      <td>70.0</td>\n",
       "      <td>Pet groomer</td>\n",
       "      <td>12 Airstream Lane, Byram, MS 39272, United States</td>\n",
       "      <td>+1 601-346-9210</td>\n",
       "      <td>small pet in Queens or Bronx</td>\n",
       "      <td>NaN</td>\n",
       "      <td>NaN</td>\n",
       "    </tr>\n",
       "    <tr>\n",
       "      <th>2</th>\n",
       "      <td>Pets Unlimited Ltd Inc</td>\n",
       "      <td>https://www.google.com/maps/place/Pets+Unlimit...</td>\n",
       "      <td>http://www.petsunlimitednyc.com/</td>\n",
       "      <td>Data found</td>\n",
       "      <td>NaN</td>\n",
       "      <td>3.4</td>\n",
       "      <td>117.0</td>\n",
       "      <td>Pet store</td>\n",
       "      <td>45-10 46th St, Sunnyside, NY 11104, United States</td>\n",
       "      <td>+1 718-392-0395</td>\n",
       "      <td>small pet in Queens or Bronx</td>\n",
       "      <td>NaN</td>\n",
       "      <td>(718) 392-0395</td>\n",
       "    </tr>\n",
       "    <tr>\n",
       "      <th>3</th>\n",
       "      <td>Pet City</td>\n",
       "      <td>https://www.google.com/maps/place/Pet+City/dat...</td>\n",
       "      <td>NaN</td>\n",
       "      <td>No website found</td>\n",
       "      <td>NaN</td>\n",
       "      <td>4.3</td>\n",
       "      <td>344.0</td>\n",
       "      <td>Pet store</td>\n",
       "      <td>108 E Burnside Ave, Bronx, NY 10453, United St...</td>\n",
       "      <td>+1 718-731-5787</td>\n",
       "      <td>small pet in Queens or Bronx</td>\n",
       "      <td>NaN</td>\n",
       "      <td>NaN</td>\n",
       "    </tr>\n",
       "    <tr>\n",
       "      <th>4</th>\n",
       "      <td>Whole Pets Market</td>\n",
       "      <td>https://www.google.com/maps/place/Whole+Pets+M...</td>\n",
       "      <td>http://wholepetmarkets.com/</td>\n",
       "      <td>Data found</td>\n",
       "      <td>NaN</td>\n",
       "      <td>4.3</td>\n",
       "      <td>490.0</td>\n",
       "      <td>Pet store</td>\n",
       "      <td>2175 White Plains Rd, Bronx, NY 10462, United ...</td>\n",
       "      <td>+1 718-792-9408</td>\n",
       "      <td>small pet in Queens or Bronx</td>\n",
       "      <td>impallari@gmail.com</td>\n",
       "      <td>(512) 858-5400</td>\n",
       "    </tr>\n",
       "  </tbody>\n",
       "</table>\n",
       "</div>"
      ],
      "text/plain": [
       "                       title  \\\n",
       "0  Izzy's Tiny Paws Boutique   \n",
       "1                  Pet Crazy   \n",
       "2     Pets Unlimited Ltd Inc   \n",
       "3                   Pet City   \n",
       "4          Whole Pets Market   \n",
       "\n",
       "                                            placeUrl  \\\n",
       "0  https://www.google.com/maps/place/Izzy%27s+Tin...   \n",
       "1  https://www.google.com/maps/place/Pet+Crazy/da...   \n",
       "2  https://www.google.com/maps/place/Pets+Unlimit...   \n",
       "3  https://www.google.com/maps/place/Pet+City/dat...   \n",
       "4  https://www.google.com/maps/place/Whole+Pets+M...   \n",
       "\n",
       "                            website            status  subtitle  rating  \\\n",
       "0                               NaN  No website found       NaN     5.0   \n",
       "1                               NaN  No website found       NaN     4.3   \n",
       "2  http://www.petsunlimitednyc.com/        Data found       NaN     3.4   \n",
       "3                               NaN  No website found       NaN     4.3   \n",
       "4       http://wholepetmarkets.com/        Data found       NaN     4.3   \n",
       "\n",
       "   reviewCount     category  \\\n",
       "0          5.0    Pet store   \n",
       "1         70.0  Pet groomer   \n",
       "2        117.0    Pet store   \n",
       "3        344.0    Pet store   \n",
       "4        490.0    Pet store   \n",
       "\n",
       "                                             address      phoneNumber  \\\n",
       "0                                                NaN  +1 718-415-3796   \n",
       "1  12 Airstream Lane, Byram, MS 39272, United States  +1 601-346-9210   \n",
       "2  45-10 46th St, Sunnyside, NY 11104, United States  +1 718-392-0395   \n",
       "3  108 E Burnside Ave, Bronx, NY 10453, United St...  +1 718-731-5787   \n",
       "4  2175 White Plains Rd, Bronx, NY 10462, United ...  +1 718-792-9408   \n",
       "\n",
       "                    searchQuery                email phoneFromWebsite  \n",
       "0  small pet in Queens or Bronx                  NaN              NaN  \n",
       "1  small pet in Queens or Bronx                  NaN              NaN  \n",
       "2  small pet in Queens or Bronx                  NaN   (718) 392-0395  \n",
       "3  small pet in Queens or Bronx                  NaN              NaN  \n",
       "4  small pet in Queens or Bronx  impallari@gmail.com   (512) 858-5400  "
      ]
     },
     "execution_count": 1,
     "metadata": {},
     "output_type": "execute_result"
    }
   ],
   "source": [
    "import pandas as pd \n",
    "import numpy as np \n",
    "\n",
    "df1 = pd.read_csv('107.csv')\n",
    "df2 = pd.read_csv('478.csv')\n",
    "\n",
    "df = pd.concat([df1, df2], ignore_index = True)\n",
    "df.head()"
   ]
  },
  {
   "cell_type": "code",
   "execution_count": 2,
   "metadata": {},
   "outputs": [
    {
     "data": {
      "text/plain": [
       "(585, 13)"
      ]
     },
     "execution_count": 2,
     "metadata": {},
     "output_type": "execute_result"
    }
   ],
   "source": [
    "df.shape"
   ]
  },
  {
   "cell_type": "code",
   "execution_count": 7,
   "metadata": {},
   "outputs": [
    {
     "data": {
      "text/html": [
       "<div>\n",
       "<style scoped>\n",
       "    .dataframe tbody tr th:only-of-type {\n",
       "        vertical-align: middle;\n",
       "    }\n",
       "\n",
       "    .dataframe tbody tr th {\n",
       "        vertical-align: top;\n",
       "    }\n",
       "\n",
       "    .dataframe thead th {\n",
       "        text-align: right;\n",
       "    }\n",
       "</style>\n",
       "<table border=\"1\" class=\"dataframe\">\n",
       "  <thead>\n",
       "    <tr style=\"text-align: right;\">\n",
       "      <th></th>\n",
       "      <th>title</th>\n",
       "      <th>placeUrl</th>\n",
       "      <th>website</th>\n",
       "      <th>status</th>\n",
       "      <th>subtitle</th>\n",
       "      <th>rating</th>\n",
       "      <th>reviewCount</th>\n",
       "      <th>category</th>\n",
       "      <th>address</th>\n",
       "      <th>phoneNumber</th>\n",
       "      <th>searchQuery</th>\n",
       "      <th>email</th>\n",
       "      <th>phoneFromWebsite</th>\n",
       "    </tr>\n",
       "  </thead>\n",
       "  <tbody>\n",
       "  </tbody>\n",
       "</table>\n",
       "</div>"
      ],
      "text/plain": [
       "Empty DataFrame\n",
       "Columns: [title, placeUrl, website, status, subtitle, rating, reviewCount, category, address, phoneNumber, searchQuery, email, phoneFromWebsite]\n",
       "Index: []"
      ]
     },
     "execution_count": 7,
     "metadata": {},
     "output_type": "execute_result"
    }
   ],
   "source": [
    "phone_replace = df[df['phoneNumber'].isnull() & df['phoneFromWebsite'].notnull()]\n",
    "phone_replace"
   ]
  },
  {
   "cell_type": "code",
   "execution_count": 6,
   "metadata": {},
   "outputs": [],
   "source": [
    "df['phoneNumber'] = df['phoneNumber'].fillna(df['phoneFromWebsite'])"
   ]
  },
  {
   "cell_type": "code",
   "execution_count": 8,
   "metadata": {},
   "outputs": [],
   "source": [
    "df = df.drop(columns = ['phoneFromWebsite', 'status', 'subtitle'])"
   ]
  },
  {
   "cell_type": "code",
   "execution_count": 9,
   "metadata": {},
   "outputs": [],
   "source": [
    "for index, phone in df['phoneNumber'].items():\n",
    "    if pd.notnull(phone) and '+1' not in phone:\n",
    "        new_phone = ''\n",
    "        for character in phone:\n",
    "            if character.isnumeric():\n",
    "                new_phone += character \n",
    "        new_phone2 = '+1 ' + new_phone[:3] + '-' + new_phone[3:6] + '-' + new_phone[6:]\n",
    "        df.at[index, 'phoneNumber'] = new_phone2"
   ]
  },
  {
   "cell_type": "code",
   "execution_count": 10,
   "metadata": {},
   "outputs": [
    {
     "data": {
      "text/plain": [
       "(585, 10)"
      ]
     },
     "execution_count": 10,
     "metadata": {},
     "output_type": "execute_result"
    }
   ],
   "source": [
    "df = df.drop_duplicates(keep='first')\n",
    "df.shape"
   ]
  },
  {
   "cell_type": "code",
   "execution_count": 11,
   "metadata": {},
   "outputs": [
    {
     "data": {
      "text/plain": [
       "(539, 10)"
      ]
     },
     "execution_count": 11,
     "metadata": {},
     "output_type": "execute_result"
    }
   ],
   "source": [
    "df = df.drop_duplicates(subset = 'phoneNumber', keep='first')\n",
    "df.shape"
   ]
  },
  {
   "cell_type": "code",
   "execution_count": 13,
   "metadata": {},
   "outputs": [
    {
     "data": {
      "text/html": [
       "<div>\n",
       "<style scoped>\n",
       "    .dataframe tbody tr th:only-of-type {\n",
       "        vertical-align: middle;\n",
       "    }\n",
       "\n",
       "    .dataframe tbody tr th {\n",
       "        vertical-align: top;\n",
       "    }\n",
       "\n",
       "    .dataframe thead th {\n",
       "        text-align: right;\n",
       "    }\n",
       "</style>\n",
       "<table border=\"1\" class=\"dataframe\">\n",
       "  <thead>\n",
       "    <tr style=\"text-align: right;\">\n",
       "      <th></th>\n",
       "      <th>title</th>\n",
       "      <th>placeUrl</th>\n",
       "      <th>website</th>\n",
       "      <th>rating</th>\n",
       "      <th>reviewCount</th>\n",
       "      <th>category</th>\n",
       "      <th>address</th>\n",
       "      <th>phoneNumber</th>\n",
       "      <th>searchQuery</th>\n",
       "      <th>email</th>\n",
       "    </tr>\n",
       "  </thead>\n",
       "  <tbody>\n",
       "    <tr>\n",
       "      <th>0</th>\n",
       "      <td>Izzy's Tiny Paws Boutique</td>\n",
       "      <td>https://www.google.com/maps/place/Izzy%27s+Tin...</td>\n",
       "      <td>NaN</td>\n",
       "      <td>5.0</td>\n",
       "      <td>5.0</td>\n",
       "      <td>Pet store</td>\n",
       "      <td>NaN</td>\n",
       "      <td>+1 718-415-3796</td>\n",
       "      <td>small pet in Queens or Bronx</td>\n",
       "      <td>NaN</td>\n",
       "    </tr>\n",
       "    <tr>\n",
       "      <th>1</th>\n",
       "      <td>Pet Crazy</td>\n",
       "      <td>https://www.google.com/maps/place/Pet+Crazy/da...</td>\n",
       "      <td>NaN</td>\n",
       "      <td>4.3</td>\n",
       "      <td>70.0</td>\n",
       "      <td>Pet groomer</td>\n",
       "      <td>12 Airstream Lane, Byram, MS 39272, United States</td>\n",
       "      <td>+1 601-346-9210</td>\n",
       "      <td>small pet in Queens or Bronx</td>\n",
       "      <td>NaN</td>\n",
       "    </tr>\n",
       "    <tr>\n",
       "      <th>2</th>\n",
       "      <td>Pets Unlimited Ltd Inc</td>\n",
       "      <td>https://www.google.com/maps/place/Pets+Unlimit...</td>\n",
       "      <td>http://www.petsunlimitednyc.com/</td>\n",
       "      <td>3.4</td>\n",
       "      <td>117.0</td>\n",
       "      <td>Pet store</td>\n",
       "      <td>45-10 46th St, Sunnyside, NY 11104, United States</td>\n",
       "      <td>+1 718-392-0395</td>\n",
       "      <td>small pet in Queens or Bronx</td>\n",
       "      <td>NaN</td>\n",
       "    </tr>\n",
       "    <tr>\n",
       "      <th>3</th>\n",
       "      <td>Pet City</td>\n",
       "      <td>https://www.google.com/maps/place/Pet+City/dat...</td>\n",
       "      <td>NaN</td>\n",
       "      <td>4.3</td>\n",
       "      <td>344.0</td>\n",
       "      <td>Pet store</td>\n",
       "      <td>108 E Burnside Ave, Bronx, NY 10453, United St...</td>\n",
       "      <td>+1 718-731-5787</td>\n",
       "      <td>small pet in Queens or Bronx</td>\n",
       "      <td>NaN</td>\n",
       "    </tr>\n",
       "    <tr>\n",
       "      <th>4</th>\n",
       "      <td>Whole Pets Market</td>\n",
       "      <td>https://www.google.com/maps/place/Whole+Pets+M...</td>\n",
       "      <td>http://wholepetmarkets.com/</td>\n",
       "      <td>4.3</td>\n",
       "      <td>490.0</td>\n",
       "      <td>Pet store</td>\n",
       "      <td>2175 White Plains Rd, Bronx, NY 10462, United ...</td>\n",
       "      <td>+1 718-792-9408</td>\n",
       "      <td>small pet in Queens or Bronx</td>\n",
       "      <td>impallari@gmail.com</td>\n",
       "    </tr>\n",
       "  </tbody>\n",
       "</table>\n",
       "</div>"
      ],
      "text/plain": [
       "                       title  \\\n",
       "0  Izzy's Tiny Paws Boutique   \n",
       "1                  Pet Crazy   \n",
       "2     Pets Unlimited Ltd Inc   \n",
       "3                   Pet City   \n",
       "4          Whole Pets Market   \n",
       "\n",
       "                                            placeUrl  \\\n",
       "0  https://www.google.com/maps/place/Izzy%27s+Tin...   \n",
       "1  https://www.google.com/maps/place/Pet+Crazy/da...   \n",
       "2  https://www.google.com/maps/place/Pets+Unlimit...   \n",
       "3  https://www.google.com/maps/place/Pet+City/dat...   \n",
       "4  https://www.google.com/maps/place/Whole+Pets+M...   \n",
       "\n",
       "                            website  rating  reviewCount     category  \\\n",
       "0                               NaN     5.0          5.0    Pet store   \n",
       "1                               NaN     4.3         70.0  Pet groomer   \n",
       "2  http://www.petsunlimitednyc.com/     3.4        117.0    Pet store   \n",
       "3                               NaN     4.3        344.0    Pet store   \n",
       "4       http://wholepetmarkets.com/     4.3        490.0    Pet store   \n",
       "\n",
       "                                             address      phoneNumber  \\\n",
       "0                                                NaN  +1 718-415-3796   \n",
       "1  12 Airstream Lane, Byram, MS 39272, United States  +1 601-346-9210   \n",
       "2  45-10 46th St, Sunnyside, NY 11104, United States  +1 718-392-0395   \n",
       "3  108 E Burnside Ave, Bronx, NY 10453, United St...  +1 718-731-5787   \n",
       "4  2175 White Plains Rd, Bronx, NY 10462, United ...  +1 718-792-9408   \n",
       "\n",
       "                    searchQuery                email  \n",
       "0  small pet in Queens or Bronx                  NaN  \n",
       "1  small pet in Queens or Bronx                  NaN  \n",
       "2  small pet in Queens or Bronx                  NaN  \n",
       "3  small pet in Queens or Bronx                  NaN  \n",
       "4  small pet in Queens or Bronx  impallari@gmail.com  "
      ]
     },
     "execution_count": 13,
     "metadata": {},
     "output_type": "execute_result"
    }
   ],
   "source": [
    "df.head()"
   ]
  },
  {
   "cell_type": "code",
   "execution_count": 14,
   "metadata": {},
   "outputs": [],
   "source": [
    "df.to_excel('539.xlsx')"
   ]
  }
 ],
 "metadata": {
  "kernelspec": {
   "display_name": "Python 3",
   "language": "python",
   "name": "python3"
  },
  "language_info": {
   "codemirror_mode": {
    "name": "ipython",
    "version": 3
   },
   "file_extension": ".py",
   "mimetype": "text/x-python",
   "name": "python",
   "nbconvert_exporter": "python",
   "pygments_lexer": "ipython3",
   "version": "3.12.4"
  }
 },
 "nbformat": 4,
 "nbformat_minor": 2
}
