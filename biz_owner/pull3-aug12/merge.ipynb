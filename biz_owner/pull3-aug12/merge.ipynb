{
 "cells": [
  {
   "cell_type": "code",
   "execution_count": 1,
   "metadata": {},
   "outputs": [
    {
     "data": {
      "text/plain": [
       "(977, 11)"
      ]
     },
     "execution_count": 1,
     "metadata": {},
     "output_type": "execute_result"
    }
   ],
   "source": [
    "import pandas as pd \n",
    "import numpy as np \n",
    "import glob \n",
    "\n",
    "excel_files = glob.glob('./*.xlsx')\n",
    "all_df = []\n",
    "\n",
    "for file in excel_files:\n",
    "    dfx = pd.read_excel(file)\n",
    "    all_df.append(dfx)\n",
    "\n",
    "df = pd.concat(all_df, ignore_index = True)\n",
    "df.shape"
   ]
  },
  {
   "cell_type": "code",
   "execution_count": 2,
   "metadata": {},
   "outputs": [
    {
     "data": {
      "text/html": [
       "<div>\n",
       "<style scoped>\n",
       "    .dataframe tbody tr th:only-of-type {\n",
       "        vertical-align: middle;\n",
       "    }\n",
       "\n",
       "    .dataframe tbody tr th {\n",
       "        vertical-align: top;\n",
       "    }\n",
       "\n",
       "    .dataframe thead th {\n",
       "        text-align: right;\n",
       "    }\n",
       "</style>\n",
       "<table border=\"1\" class=\"dataframe\">\n",
       "  <thead>\n",
       "    <tr style=\"text-align: right;\">\n",
       "      <th></th>\n",
       "      <th>Unnamed: 0</th>\n",
       "      <th>title</th>\n",
       "      <th>placeURL</th>\n",
       "      <th>website</th>\n",
       "      <th>rating</th>\n",
       "      <th>reviewCount</th>\n",
       "      <th>category</th>\n",
       "      <th>address</th>\n",
       "      <th>phoneNumber</th>\n",
       "      <th>searchQuery</th>\n",
       "      <th>email</th>\n",
       "    </tr>\n",
       "  </thead>\n",
       "  <tbody>\n",
       "    <tr>\n",
       "      <th>0</th>\n",
       "      <td>0</td>\n",
       "      <td>Manasquan Dry Cleaners</td>\n",
       "      <td>https://www.google.com/maps/place/?q=place_id:...</td>\n",
       "      <td>NaN</td>\n",
       "      <td>5.0</td>\n",
       "      <td>5.0</td>\n",
       "      <td>cleaner</td>\n",
       "      <td>83 Main St, Manasquan, NJ 08736, USA</td>\n",
       "      <td>+1 732-223-0711</td>\n",
       "      <td>small dry cleaner</td>\n",
       "      <td>NaN</td>\n",
       "    </tr>\n",
       "    <tr>\n",
       "      <th>1</th>\n",
       "      <td>1</td>\n",
       "      <td>Main Street Cleaners</td>\n",
       "      <td>https://www.google.com/maps/place/?q=place_id:...</td>\n",
       "      <td>NaN</td>\n",
       "      <td>5.0</td>\n",
       "      <td>4.0</td>\n",
       "      <td>cleaner</td>\n",
       "      <td>233 E Main St, Manasquan, NJ 08736, USA</td>\n",
       "      <td>+1 732-528-0442</td>\n",
       "      <td>small dry cleaner</td>\n",
       "      <td>NaN</td>\n",
       "    </tr>\n",
       "    <tr>\n",
       "      <th>2</th>\n",
       "      <td>2</td>\n",
       "      <td>Atlantic Cleaners</td>\n",
       "      <td>https://www.google.com/maps/place/?q=place_id:...</td>\n",
       "      <td>NaN</td>\n",
       "      <td>4.3</td>\n",
       "      <td>6.0</td>\n",
       "      <td>cleaner</td>\n",
       "      <td>99 Atlantic Ave, Manasquan, NJ 08736, USA</td>\n",
       "      <td>+1 732-223-7990</td>\n",
       "      <td>small dry cleaner</td>\n",
       "      <td>NaN</td>\n",
       "    </tr>\n",
       "    <tr>\n",
       "      <th>3</th>\n",
       "      <td>3</td>\n",
       "      <td>Pat the Tailor Dry Cleaners</td>\n",
       "      <td>https://www.google.com/maps/place/?q=place_id:...</td>\n",
       "      <td>http://www.patthetailornj.com/</td>\n",
       "      <td>4.3</td>\n",
       "      <td>24.0</td>\n",
       "      <td>cleaner</td>\n",
       "      <td>234 Hawthorne Ave, Point Pleasant Beach, NJ 08...</td>\n",
       "      <td>+1 732-295-2929</td>\n",
       "      <td>small dry cleaner</td>\n",
       "      <td>NaN</td>\n",
       "    </tr>\n",
       "    <tr>\n",
       "      <th>4</th>\n",
       "      <td>4</td>\n",
       "      <td>Surf Suds Laundromat Point Pleasant</td>\n",
       "      <td>https://www.google.com/maps/place/?q=place_id:...</td>\n",
       "      <td>http://surfsudslaundromats.com/</td>\n",
       "      <td>4.6</td>\n",
       "      <td>88.0</td>\n",
       "      <td>cleaner</td>\n",
       "      <td>632 Ocean Rd, Point Pleasant, NJ 08742, USA</td>\n",
       "      <td>+1 732-295-9222</td>\n",
       "      <td>small dry cleaner</td>\n",
       "      <td>NaN</td>\n",
       "    </tr>\n",
       "  </tbody>\n",
       "</table>\n",
       "</div>"
      ],
      "text/plain": [
       "   Unnamed: 0                                title  \\\n",
       "0           0               Manasquan Dry Cleaners   \n",
       "1           1                 Main Street Cleaners   \n",
       "2           2                    Atlantic Cleaners   \n",
       "3           3          Pat the Tailor Dry Cleaners   \n",
       "4           4  Surf Suds Laundromat Point Pleasant   \n",
       "\n",
       "                                            placeURL  \\\n",
       "0  https://www.google.com/maps/place/?q=place_id:...   \n",
       "1  https://www.google.com/maps/place/?q=place_id:...   \n",
       "2  https://www.google.com/maps/place/?q=place_id:...   \n",
       "3  https://www.google.com/maps/place/?q=place_id:...   \n",
       "4  https://www.google.com/maps/place/?q=place_id:...   \n",
       "\n",
       "                           website  rating  reviewCount category  \\\n",
       "0                              NaN     5.0          5.0  cleaner   \n",
       "1                              NaN     5.0          4.0  cleaner   \n",
       "2                              NaN     4.3          6.0  cleaner   \n",
       "3   http://www.patthetailornj.com/     4.3         24.0  cleaner   \n",
       "4  http://surfsudslaundromats.com/     4.6         88.0  cleaner   \n",
       "\n",
       "                                             address      phoneNumber  \\\n",
       "0               83 Main St, Manasquan, NJ 08736, USA  +1 732-223-0711   \n",
       "1            233 E Main St, Manasquan, NJ 08736, USA  +1 732-528-0442   \n",
       "2          99 Atlantic Ave, Manasquan, NJ 08736, USA  +1 732-223-7990   \n",
       "3  234 Hawthorne Ave, Point Pleasant Beach, NJ 08...  +1 732-295-2929   \n",
       "4        632 Ocean Rd, Point Pleasant, NJ 08742, USA  +1 732-295-9222   \n",
       "\n",
       "         searchQuery email  \n",
       "0  small dry cleaner   NaN  \n",
       "1  small dry cleaner   NaN  \n",
       "2  small dry cleaner   NaN  \n",
       "3  small dry cleaner   NaN  \n",
       "4  small dry cleaner   NaN  "
      ]
     },
     "execution_count": 2,
     "metadata": {},
     "output_type": "execute_result"
    }
   ],
   "source": [
    "df.head()"
   ]
  },
  {
   "cell_type": "code",
   "execution_count": 3,
   "metadata": {},
   "outputs": [],
   "source": [
    "del df['Unnamed: 0']"
   ]
  },
  {
   "cell_type": "code",
   "execution_count": 4,
   "metadata": {},
   "outputs": [
    {
     "data": {
      "text/plain": [
       "title            0\n",
       "placeURL         0\n",
       "website        324\n",
       "rating          62\n",
       "reviewCount     62\n",
       "category         2\n",
       "address         15\n",
       "phoneNumber      3\n",
       "searchQuery      0\n",
       "email          746\n",
       "dtype: int64"
      ]
     },
     "execution_count": 4,
     "metadata": {},
     "output_type": "execute_result"
    }
   ],
   "source": [
    "df.isnull().sum()"
   ]
  },
  {
   "cell_type": "code",
   "execution_count": 5,
   "metadata": {},
   "outputs": [
    {
     "data": {
      "text/html": [
       "<div>\n",
       "<style scoped>\n",
       "    .dataframe tbody tr th:only-of-type {\n",
       "        vertical-align: middle;\n",
       "    }\n",
       "\n",
       "    .dataframe tbody tr th {\n",
       "        vertical-align: top;\n",
       "    }\n",
       "\n",
       "    .dataframe thead th {\n",
       "        text-align: right;\n",
       "    }\n",
       "</style>\n",
       "<table border=\"1\" class=\"dataframe\">\n",
       "  <thead>\n",
       "    <tr style=\"text-align: right;\">\n",
       "      <th></th>\n",
       "      <th>title</th>\n",
       "      <th>placeURL</th>\n",
       "      <th>website</th>\n",
       "      <th>rating</th>\n",
       "      <th>reviewCount</th>\n",
       "      <th>category</th>\n",
       "      <th>address</th>\n",
       "      <th>phoneNumber</th>\n",
       "      <th>searchQuery</th>\n",
       "      <th>email</th>\n",
       "    </tr>\n",
       "  </thead>\n",
       "  <tbody>\n",
       "    <tr>\n",
       "      <th>81</th>\n",
       "      <td>Studio T Marie</td>\n",
       "      <td>https://www.google.com/maps/place/?q=place_id:...</td>\n",
       "      <td>https://shop.saloninteractive.com/store/Studio...</td>\n",
       "      <td>5.0</td>\n",
       "      <td>2.0</td>\n",
       "      <td>salon</td>\n",
       "      <td>1825 NJ-35, Wall Township, NJ 07719, USA</td>\n",
       "      <td>NaN</td>\n",
       "      <td>small salon</td>\n",
       "      <td>NaN</td>\n",
       "    </tr>\n",
       "    <tr>\n",
       "      <th>265</th>\n",
       "      <td>The Vintage Shop Carmel</td>\n",
       "      <td>https://www.google.com/maps/place/?q=place_id:...</td>\n",
       "      <td>https://www.thevintageshopcarmel.com/</td>\n",
       "      <td>4.6</td>\n",
       "      <td>58.0</td>\n",
       "      <td>clothing</td>\n",
       "      <td>222 NY-52 Suite 2, Carmel Hamlet, NY 10512, USA</td>\n",
       "      <td>NaN</td>\n",
       "      <td>small clothing</td>\n",
       "      <td>NaN</td>\n",
       "    </tr>\n",
       "    <tr>\n",
       "      <th>453</th>\n",
       "      <td>Have A Nice Day Clothing</td>\n",
       "      <td>https://www.google.com/maps/place/Have+A+Nice+...</td>\n",
       "      <td>NaN</td>\n",
       "      <td>4.7</td>\n",
       "      <td>11.0</td>\n",
       "      <td>Clothing store</td>\n",
       "      <td>1087 Southern Blvd, Bronx, NY 10459, United St...</td>\n",
       "      <td>NaN</td>\n",
       "      <td>small shop in Queens or Bronx</td>\n",
       "      <td>NaN</td>\n",
       "    </tr>\n",
       "  </tbody>\n",
       "</table>\n",
       "</div>"
      ],
      "text/plain": [
       "                        title  \\\n",
       "81             Studio T Marie   \n",
       "265   The Vintage Shop Carmel   \n",
       "453  Have A Nice Day Clothing   \n",
       "\n",
       "                                              placeURL  \\\n",
       "81   https://www.google.com/maps/place/?q=place_id:...   \n",
       "265  https://www.google.com/maps/place/?q=place_id:...   \n",
       "453  https://www.google.com/maps/place/Have+A+Nice+...   \n",
       "\n",
       "                                               website  rating  reviewCount  \\\n",
       "81   https://shop.saloninteractive.com/store/Studio...     5.0          2.0   \n",
       "265              https://www.thevintageshopcarmel.com/     4.6         58.0   \n",
       "453                                                NaN     4.7         11.0   \n",
       "\n",
       "           category                                            address  \\\n",
       "81            salon           1825 NJ-35, Wall Township, NJ 07719, USA   \n",
       "265        clothing    222 NY-52 Suite 2, Carmel Hamlet, NY 10512, USA   \n",
       "453  Clothing store  1087 Southern Blvd, Bronx, NY 10459, United St...   \n",
       "\n",
       "    phoneNumber                    searchQuery email  \n",
       "81          NaN                    small salon   NaN  \n",
       "265         NaN                 small clothing   NaN  \n",
       "453         NaN  small shop in Queens or Bronx   NaN  "
      ]
     },
     "execution_count": 5,
     "metadata": {},
     "output_type": "execute_result"
    }
   ],
   "source": [
    "phonenull = df[df['phoneNumber'].isnull()]\n",
    "phonenull"
   ]
  },
  {
   "cell_type": "code",
   "execution_count": 6,
   "metadata": {},
   "outputs": [
    {
     "name": "stdout",
     "output_type": "stream",
     "text": [
      "https://shop.saloninteractive.com/store/StudioTMarie?utm_source=SalonInteractive&utm_medium=web&utm_campaign=ShareMyStore\n",
      "https://www.thevintageshopcarmel.com/\n",
      "nan\n"
     ]
    }
   ],
   "source": [
    "for website in phonenull['website']:\n",
    "    print(website)"
   ]
  },
  {
   "cell_type": "code",
   "execution_count": 10,
   "metadata": {},
   "outputs": [
    {
     "data": {
      "text/plain": [
       "title                                             Studio T Marie\n",
       "placeURL       https://www.google.com/maps/place/?q=place_id:...\n",
       "website        https://shop.saloninteractive.com/store/Studio...\n",
       "rating                                                       5.0\n",
       "reviewCount                                                  2.0\n",
       "category                                                   salon\n",
       "address                 1825 NJ-35, Wall Township, NJ 07719, USA\n",
       "phoneNumber                                      +1 732-618-4530\n",
       "searchQuery                                          small salon\n",
       "email                                                        NaN\n",
       "Name: 81, dtype: object"
      ]
     },
     "execution_count": 10,
     "metadata": {},
     "output_type": "execute_result"
    }
   ],
   "source": [
    "df.loc[81]"
   ]
  },
  {
   "cell_type": "code",
   "execution_count": 9,
   "metadata": {},
   "outputs": [],
   "source": [
    "df.at[81, 'phoneNumber'] = '+1 732-618-4530'"
   ]
  },
  {
   "cell_type": "code",
   "execution_count": 11,
   "metadata": {},
   "outputs": [],
   "source": [
    "df.at[265, 'phoneNumber'] = '+1 845-306-7332'"
   ]
  },
  {
   "cell_type": "code",
   "execution_count": 12,
   "metadata": {},
   "outputs": [],
   "source": [
    "df.at[453, 'email'] = 'steffilynnt@gmail.com'\n",
    "df.at[453,'website'] = 'https://itshaveaniceday.com/'"
   ]
  },
  {
   "cell_type": "code",
   "execution_count": 14,
   "metadata": {},
   "outputs": [
    {
     "data": {
      "text/plain": [
       "(977, 10)"
      ]
     },
     "execution_count": 14,
     "metadata": {},
     "output_type": "execute_result"
    }
   ],
   "source": [
    "df = df.drop_duplicates(keep='first')\n",
    "df.shape"
   ]
  },
  {
   "cell_type": "code",
   "execution_count": 15,
   "metadata": {},
   "outputs": [
    {
     "data": {
      "text/plain": [
       "(977, 10)"
      ]
     },
     "execution_count": 15,
     "metadata": {},
     "output_type": "execute_result"
    }
   ],
   "source": [
    "df = df.drop_duplicates(subset = 'phoneNumber', keep='first')\n",
    "df.shape"
   ]
  },
  {
   "cell_type": "code",
   "execution_count": 16,
   "metadata": {},
   "outputs": [],
   "source": [
    "df.to_excel('Pull 3.xlsx')"
   ]
  },
  {
   "cell_type": "code",
   "execution_count": 17,
   "metadata": {},
   "outputs": [
    {
     "data": {
      "text/html": [
       "<div>\n",
       "<style scoped>\n",
       "    .dataframe tbody tr th:only-of-type {\n",
       "        vertical-align: middle;\n",
       "    }\n",
       "\n",
       "    .dataframe tbody tr th {\n",
       "        vertical-align: top;\n",
       "    }\n",
       "\n",
       "    .dataframe thead th {\n",
       "        text-align: right;\n",
       "    }\n",
       "</style>\n",
       "<table border=\"1\" class=\"dataframe\">\n",
       "  <thead>\n",
       "    <tr style=\"text-align: right;\">\n",
       "      <th></th>\n",
       "      <th>title</th>\n",
       "      <th>placeURL</th>\n",
       "      <th>website</th>\n",
       "      <th>rating</th>\n",
       "      <th>reviewCount</th>\n",
       "      <th>category</th>\n",
       "      <th>address</th>\n",
       "      <th>phoneNumber</th>\n",
       "      <th>searchQuery</th>\n",
       "      <th>email</th>\n",
       "    </tr>\n",
       "  </thead>\n",
       "  <tbody>\n",
       "    <tr>\n",
       "      <th>0</th>\n",
       "      <td>Manasquan Dry Cleaners</td>\n",
       "      <td>https://www.google.com/maps/place/?q=place_id:...</td>\n",
       "      <td>NaN</td>\n",
       "      <td>5.0</td>\n",
       "      <td>5.0</td>\n",
       "      <td>cleaner</td>\n",
       "      <td>83 Main St, Manasquan, NJ 08736, USA</td>\n",
       "      <td>+1 732-223-0711</td>\n",
       "      <td>small dry cleaner</td>\n",
       "      <td>NaN</td>\n",
       "    </tr>\n",
       "    <tr>\n",
       "      <th>1</th>\n",
       "      <td>Main Street Cleaners</td>\n",
       "      <td>https://www.google.com/maps/place/?q=place_id:...</td>\n",
       "      <td>NaN</td>\n",
       "      <td>5.0</td>\n",
       "      <td>4.0</td>\n",
       "      <td>cleaner</td>\n",
       "      <td>233 E Main St, Manasquan, NJ 08736, USA</td>\n",
       "      <td>+1 732-528-0442</td>\n",
       "      <td>small dry cleaner</td>\n",
       "      <td>NaN</td>\n",
       "    </tr>\n",
       "    <tr>\n",
       "      <th>2</th>\n",
       "      <td>Atlantic Cleaners</td>\n",
       "      <td>https://www.google.com/maps/place/?q=place_id:...</td>\n",
       "      <td>NaN</td>\n",
       "      <td>4.3</td>\n",
       "      <td>6.0</td>\n",
       "      <td>cleaner</td>\n",
       "      <td>99 Atlantic Ave, Manasquan, NJ 08736, USA</td>\n",
       "      <td>+1 732-223-7990</td>\n",
       "      <td>small dry cleaner</td>\n",
       "      <td>NaN</td>\n",
       "    </tr>\n",
       "    <tr>\n",
       "      <th>3</th>\n",
       "      <td>Pat the Tailor Dry Cleaners</td>\n",
       "      <td>https://www.google.com/maps/place/?q=place_id:...</td>\n",
       "      <td>http://www.patthetailornj.com/</td>\n",
       "      <td>4.3</td>\n",
       "      <td>24.0</td>\n",
       "      <td>cleaner</td>\n",
       "      <td>234 Hawthorne Ave, Point Pleasant Beach, NJ 08...</td>\n",
       "      <td>+1 732-295-2929</td>\n",
       "      <td>small dry cleaner</td>\n",
       "      <td>NaN</td>\n",
       "    </tr>\n",
       "    <tr>\n",
       "      <th>4</th>\n",
       "      <td>Surf Suds Laundromat Point Pleasant</td>\n",
       "      <td>https://www.google.com/maps/place/?q=place_id:...</td>\n",
       "      <td>http://surfsudslaundromats.com/</td>\n",
       "      <td>4.6</td>\n",
       "      <td>88.0</td>\n",
       "      <td>cleaner</td>\n",
       "      <td>632 Ocean Rd, Point Pleasant, NJ 08742, USA</td>\n",
       "      <td>+1 732-295-9222</td>\n",
       "      <td>small dry cleaner</td>\n",
       "      <td>NaN</td>\n",
       "    </tr>\n",
       "  </tbody>\n",
       "</table>\n",
       "</div>"
      ],
      "text/plain": [
       "                                 title  \\\n",
       "0               Manasquan Dry Cleaners   \n",
       "1                 Main Street Cleaners   \n",
       "2                    Atlantic Cleaners   \n",
       "3          Pat the Tailor Dry Cleaners   \n",
       "4  Surf Suds Laundromat Point Pleasant   \n",
       "\n",
       "                                            placeURL  \\\n",
       "0  https://www.google.com/maps/place/?q=place_id:...   \n",
       "1  https://www.google.com/maps/place/?q=place_id:...   \n",
       "2  https://www.google.com/maps/place/?q=place_id:...   \n",
       "3  https://www.google.com/maps/place/?q=place_id:...   \n",
       "4  https://www.google.com/maps/place/?q=place_id:...   \n",
       "\n",
       "                           website  rating  reviewCount category  \\\n",
       "0                              NaN     5.0          5.0  cleaner   \n",
       "1                              NaN     5.0          4.0  cleaner   \n",
       "2                              NaN     4.3          6.0  cleaner   \n",
       "3   http://www.patthetailornj.com/     4.3         24.0  cleaner   \n",
       "4  http://surfsudslaundromats.com/     4.6         88.0  cleaner   \n",
       "\n",
       "                                             address      phoneNumber  \\\n",
       "0               83 Main St, Manasquan, NJ 08736, USA  +1 732-223-0711   \n",
       "1            233 E Main St, Manasquan, NJ 08736, USA  +1 732-528-0442   \n",
       "2          99 Atlantic Ave, Manasquan, NJ 08736, USA  +1 732-223-7990   \n",
       "3  234 Hawthorne Ave, Point Pleasant Beach, NJ 08...  +1 732-295-2929   \n",
       "4        632 Ocean Rd, Point Pleasant, NJ 08742, USA  +1 732-295-9222   \n",
       "\n",
       "         searchQuery email  \n",
       "0  small dry cleaner   NaN  \n",
       "1  small dry cleaner   NaN  \n",
       "2  small dry cleaner   NaN  \n",
       "3  small dry cleaner   NaN  \n",
       "4  small dry cleaner   NaN  "
      ]
     },
     "execution_count": 17,
     "metadata": {},
     "output_type": "execute_result"
    }
   ],
   "source": [
    "df.head()"
   ]
  }
 ],
 "metadata": {
  "kernelspec": {
   "display_name": "Python 3",
   "language": "python",
   "name": "python3"
  },
  "language_info": {
   "codemirror_mode": {
    "name": "ipython",
    "version": 3
   },
   "file_extension": ".py",
   "mimetype": "text/x-python",
   "name": "python",
   "nbconvert_exporter": "python",
   "pygments_lexer": "ipython3",
   "version": "3.12.4"
  }
 },
 "nbformat": 4,
 "nbformat_minor": 2
}
