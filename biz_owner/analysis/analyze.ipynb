{
 "cells": [
  {
   "cell_type": "code",
   "execution_count": 2,
   "metadata": {},
   "outputs": [
    {
     "data": {
      "text/html": [
       "<div>\n",
       "<style scoped>\n",
       "    .dataframe tbody tr th:only-of-type {\n",
       "        vertical-align: middle;\n",
       "    }\n",
       "\n",
       "    .dataframe tbody tr th {\n",
       "        vertical-align: top;\n",
       "    }\n",
       "\n",
       "    .dataframe thead th {\n",
       "        text-align: right;\n",
       "    }\n",
       "</style>\n",
       "<table border=\"1\" class=\"dataframe\">\n",
       "  <thead>\n",
       "    <tr style=\"text-align: right;\">\n",
       "      <th></th>\n",
       "      <th>title</th>\n",
       "      <th>placeUrl</th>\n",
       "      <th>website</th>\n",
       "      <th>status</th>\n",
       "      <th>subtitle</th>\n",
       "      <th>rating</th>\n",
       "      <th>reviewCount</th>\n",
       "      <th>category</th>\n",
       "      <th>address</th>\n",
       "      <th>phoneNumber</th>\n",
       "      <th>searchQuery</th>\n",
       "      <th>email</th>\n",
       "      <th>phoneFromWebsite</th>\n",
       "      <th>linkedInUrl</th>\n",
       "    </tr>\n",
       "  </thead>\n",
       "  <tbody>\n",
       "    <tr>\n",
       "      <th>0</th>\n",
       "      <td>Software Pro</td>\n",
       "      <td>https://www.google.com/maps/place/Software+Pro...</td>\n",
       "      <td>https://softwaredeveloperspro.com/</td>\n",
       "      <td>Data found</td>\n",
       "      <td>NaN</td>\n",
       "      <td>4.9</td>\n",
       "      <td>50.0</td>\n",
       "      <td>Software company</td>\n",
       "      <td>420 Lexington Ave Suite 300 RM 332, New York, ...</td>\n",
       "      <td>+1 347-719-4581</td>\n",
       "      <td>software company in new york city</td>\n",
       "      <td>sales@softwaredeveloperspro.com</td>\n",
       "      <td>+1 347 719 4581</td>\n",
       "      <td>https://www.linkedin.com/company/70911884</td>\n",
       "    </tr>\n",
       "    <tr>\n",
       "      <th>1</th>\n",
       "      <td>NEX Softsys : Offshore Software Development Co...</td>\n",
       "      <td>https://www.google.com/maps/place/NEX+Softsys+...</td>\n",
       "      <td>https://www.nexsoftsys.com/</td>\n",
       "      <td>Data found</td>\n",
       "      <td>NaN</td>\n",
       "      <td>5.0</td>\n",
       "      <td>1.0</td>\n",
       "      <td>Software company</td>\n",
       "      <td>477 Madison Ave 6th floor, New York, NY 10022,...</td>\n",
       "      <td>+1 646-971-0799</td>\n",
       "      <td>software company in new york city</td>\n",
       "      <td>info@nexsoftsys.com</td>\n",
       "      <td>1800 889 7020</td>\n",
       "      <td>https://www.linkedin.com/company/nexsoftware/</td>\n",
       "    </tr>\n",
       "    <tr>\n",
       "      <th>2</th>\n",
       "      <td>Hubspire</td>\n",
       "      <td>https://www.google.com/maps/place/Hubspire/dat...</td>\n",
       "      <td>http://www.hubspire.com/</td>\n",
       "      <td>Data found</td>\n",
       "      <td>NaN</td>\n",
       "      <td>5.0</td>\n",
       "      <td>26.0</td>\n",
       "      <td>Software company</td>\n",
       "      <td>580 5th Ave #820, New York, NY 10036, United S...</td>\n",
       "      <td>+1 646-234-4550</td>\n",
       "      <td>software company in new york city</td>\n",
       "      <td>NaN</td>\n",
       "      <td>NaN</td>\n",
       "      <td>https://www.linkedin.com/company/hubspire</td>\n",
       "    </tr>\n",
       "    <tr>\n",
       "      <th>3</th>\n",
       "      <td>Eze Software - New York Office</td>\n",
       "      <td>https://www.google.com/maps/place/Eze+Software...</td>\n",
       "      <td>https://www.ezesoft.com/company/office-locations</td>\n",
       "      <td>Data found</td>\n",
       "      <td>NaN</td>\n",
       "      <td>5.0</td>\n",
       "      <td>1.0</td>\n",
       "      <td>Software company</td>\n",
       "      <td>622 3rd Ave, New York, NY 10017, United States</td>\n",
       "      <td>+1 617-316-1000</td>\n",
       "      <td>software company in new york city</td>\n",
       "      <td>NaN</td>\n",
       "      <td>+1 617 316 1000</td>\n",
       "      <td>https://www.linkedin.com/company/ezesoftware/</td>\n",
       "    </tr>\n",
       "    <tr>\n",
       "      <th>4</th>\n",
       "      <td>New York Times Software</td>\n",
       "      <td>https://www.google.com/maps/place/New+York+Tim...</td>\n",
       "      <td>https://www.ovksmm.com/</td>\n",
       "      <td>No data found</td>\n",
       "      <td>NaN</td>\n",
       "      <td>5.0</td>\n",
       "      <td>1.0</td>\n",
       "      <td>Software company</td>\n",
       "      <td>228 W 47th St, New York, NY 10036, United States</td>\n",
       "      <td>NaN</td>\n",
       "      <td>software company in new york city</td>\n",
       "      <td>NaN</td>\n",
       "      <td>NaN</td>\n",
       "      <td>NaN</td>\n",
       "    </tr>\n",
       "  </tbody>\n",
       "</table>\n",
       "</div>"
      ],
      "text/plain": [
       "                                               title  \\\n",
       "0                                       Software Pro   \n",
       "1  NEX Softsys : Offshore Software Development Co...   \n",
       "2                                           Hubspire   \n",
       "3                     Eze Software - New York Office   \n",
       "4                            New York Times Software   \n",
       "\n",
       "                                            placeUrl  \\\n",
       "0  https://www.google.com/maps/place/Software+Pro...   \n",
       "1  https://www.google.com/maps/place/NEX+Softsys+...   \n",
       "2  https://www.google.com/maps/place/Hubspire/dat...   \n",
       "3  https://www.google.com/maps/place/Eze+Software...   \n",
       "4  https://www.google.com/maps/place/New+York+Tim...   \n",
       "\n",
       "                                            website         status  subtitle  \\\n",
       "0                https://softwaredeveloperspro.com/     Data found       NaN   \n",
       "1                       https://www.nexsoftsys.com/     Data found       NaN   \n",
       "2                          http://www.hubspire.com/     Data found       NaN   \n",
       "3  https://www.ezesoft.com/company/office-locations     Data found       NaN   \n",
       "4                           https://www.ovksmm.com/  No data found       NaN   \n",
       "\n",
       "   rating  reviewCount          category  \\\n",
       "0     4.9         50.0  Software company   \n",
       "1     5.0          1.0  Software company   \n",
       "2     5.0         26.0  Software company   \n",
       "3     5.0          1.0  Software company   \n",
       "4     5.0          1.0  Software company   \n",
       "\n",
       "                                             address      phoneNumber  \\\n",
       "0  420 Lexington Ave Suite 300 RM 332, New York, ...  +1 347-719-4581   \n",
       "1  477 Madison Ave 6th floor, New York, NY 10022,...  +1 646-971-0799   \n",
       "2  580 5th Ave #820, New York, NY 10036, United S...  +1 646-234-4550   \n",
       "3     622 3rd Ave, New York, NY 10017, United States  +1 617-316-1000   \n",
       "4   228 W 47th St, New York, NY 10036, United States              NaN   \n",
       "\n",
       "                         searchQuery                            email  \\\n",
       "0  software company in new york city  sales@softwaredeveloperspro.com   \n",
       "1  software company in new york city              info@nexsoftsys.com   \n",
       "2  software company in new york city                              NaN   \n",
       "3  software company in new york city                              NaN   \n",
       "4  software company in new york city                              NaN   \n",
       "\n",
       "  phoneFromWebsite                                    linkedInUrl  \n",
       "0  +1 347 719 4581      https://www.linkedin.com/company/70911884  \n",
       "1    1800 889 7020  https://www.linkedin.com/company/nexsoftware/  \n",
       "2              NaN      https://www.linkedin.com/company/hubspire  \n",
       "3  +1 617 316 1000  https://www.linkedin.com/company/ezesoftware/  \n",
       "4              NaN                                            NaN  "
      ]
     },
     "execution_count": 2,
     "metadata": {},
     "output_type": "execute_result"
    }
   ],
   "source": [
    "import pandas as pd\n",
    "import numpy as np \n",
    "\n",
    "df = pd.read_csv('biz_owner_nyc.csv')\n",
    "df.head()"
   ]
  },
  {
   "cell_type": "code",
   "execution_count": 3,
   "metadata": {},
   "outputs": [
    {
     "data": {
      "text/plain": [
       "title                 0\n",
       "placeUrl              0\n",
       "website              35\n",
       "status                0\n",
       "subtitle            225\n",
       "rating               51\n",
       "reviewCount          51\n",
       "category              0\n",
       "address               6\n",
       "phoneNumber          22\n",
       "searchQuery           0\n",
       "email                98\n",
       "phoneFromWebsite    117\n",
       "linkedInUrl         106\n",
       "dtype: int64"
      ]
     },
     "execution_count": 3,
     "metadata": {},
     "output_type": "execute_result"
    }
   ],
   "source": [
    "df.isnull().sum()"
   ]
  },
  {
   "cell_type": "code",
   "execution_count": 4,
   "metadata": {},
   "outputs": [],
   "source": [
    "del df['searchQuery']"
   ]
  },
  {
   "cell_type": "code",
   "execution_count": 5,
   "metadata": {},
   "outputs": [
    {
     "data": {
      "text/plain": [
       "(225, 13)"
      ]
     },
     "execution_count": 5,
     "metadata": {},
     "output_type": "execute_result"
    }
   ],
   "source": [
    "df.shape"
   ]
  },
  {
   "cell_type": "code",
   "execution_count": 6,
   "metadata": {},
   "outputs": [],
   "source": [
    "df = df.dropna(subset=['phoneNumber', 'linkedInUrl', 'website', 'email'], how='all')"
   ]
  },
  {
   "cell_type": "code",
   "execution_count": 7,
   "metadata": {},
   "outputs": [
    {
     "data": {
      "text/plain": [
       "(222, 13)"
      ]
     },
     "execution_count": 7,
     "metadata": {},
     "output_type": "execute_result"
    }
   ],
   "source": [
    "df.shape"
   ]
  },
  {
   "cell_type": "code",
   "execution_count": 8,
   "metadata": {},
   "outputs": [],
   "source": [
    "del df['status']"
   ]
  },
  {
   "cell_type": "code",
   "execution_count": 9,
   "metadata": {},
   "outputs": [],
   "source": [
    "df.to_excel('biz_owner_nyc.xlsx')"
   ]
  }
 ],
 "metadata": {
  "kernelspec": {
   "display_name": "Python 3",
   "language": "python",
   "name": "python3"
  },
  "language_info": {
   "codemirror_mode": {
    "name": "ipython",
    "version": 3
   },
   "file_extension": ".py",
   "mimetype": "text/x-python",
   "name": "python",
   "nbconvert_exporter": "python",
   "pygments_lexer": "ipython3",
   "version": "3.12.4"
  }
 },
 "nbformat": 4,
 "nbformat_minor": 2
}
