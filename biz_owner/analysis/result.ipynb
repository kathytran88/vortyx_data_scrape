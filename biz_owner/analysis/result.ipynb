{
 "cells": [
  {
   "cell_type": "code",
   "execution_count": 1,
   "metadata": {},
   "outputs": [
    {
     "data": {
      "text/html": [
       "<div>\n",
       "<style scoped>\n",
       "    .dataframe tbody tr th:only-of-type {\n",
       "        vertical-align: middle;\n",
       "    }\n",
       "\n",
       "    .dataframe tbody tr th {\n",
       "        vertical-align: top;\n",
       "    }\n",
       "\n",
       "    .dataframe thead th {\n",
       "        text-align: right;\n",
       "    }\n",
       "</style>\n",
       "<table border=\"1\" class=\"dataframe\">\n",
       "  <thead>\n",
       "    <tr style=\"text-align: right;\">\n",
       "      <th></th>\n",
       "      <th>title</th>\n",
       "      <th>placeUrl</th>\n",
       "      <th>website</th>\n",
       "      <th>status</th>\n",
       "      <th>subtitle</th>\n",
       "      <th>rating</th>\n",
       "      <th>reviewCount</th>\n",
       "      <th>category</th>\n",
       "      <th>address</th>\n",
       "      <th>phoneNumber</th>\n",
       "      <th>searchQuery</th>\n",
       "    </tr>\n",
       "  </thead>\n",
       "  <tbody>\n",
       "    <tr>\n",
       "      <th>0</th>\n",
       "      <td>New York Capital Technologies, LLC</td>\n",
       "      <td>https://www.google.com/maps/place/New+York+Cap...</td>\n",
       "      <td>https://nycapitaltech.com/</td>\n",
       "      <td>NaN</td>\n",
       "      <td>NaN</td>\n",
       "      <td>5.0</td>\n",
       "      <td>12.0</td>\n",
       "      <td>Computer support and services</td>\n",
       "      <td>99 Wall St suite 512, New York, NY 10005, Unit...</td>\n",
       "      <td>+1 929-277-7996</td>\n",
       "      <td>small technology in new york city</td>\n",
       "    </tr>\n",
       "    <tr>\n",
       "      <th>1</th>\n",
       "      <td>ANGLER Technologies USA Inc - Development of A...</td>\n",
       "      <td>https://www.google.com/maps/place/ANGLER+Techn...</td>\n",
       "      <td>https://www.angleritech.com/</td>\n",
       "      <td>NaN</td>\n",
       "      <td>NaN</td>\n",
       "      <td>NaN</td>\n",
       "      <td>NaN</td>\n",
       "      <td>Software company</td>\n",
       "      <td>305 Madison Ave #449, New York, NY 10165, Unit...</td>\n",
       "      <td>+1 646-290-8609</td>\n",
       "      <td>small technology in new york city</td>\n",
       "    </tr>\n",
       "    <tr>\n",
       "      <th>2</th>\n",
       "      <td>WCA Technologies</td>\n",
       "      <td>https://www.google.com/maps/place/WCA+Technolo...</td>\n",
       "      <td>https://www.wcatech.com/</td>\n",
       "      <td>NaN</td>\n",
       "      <td>NaN</td>\n",
       "      <td>5.0</td>\n",
       "      <td>2.0</td>\n",
       "      <td>Computer consultant</td>\n",
       "      <td>1430 Broadway #602, New York, NY 10018, United...</td>\n",
       "      <td>+1 212-642-0980</td>\n",
       "      <td>small technology in new york city</td>\n",
       "    </tr>\n",
       "    <tr>\n",
       "      <th>3</th>\n",
       "      <td>Integrated Technology Systems</td>\n",
       "      <td>https://www.google.com/maps/place/Integrated+T...</td>\n",
       "      <td>http://www.itsnyc.com/</td>\n",
       "      <td>NaN</td>\n",
       "      <td>NaN</td>\n",
       "      <td>5.0</td>\n",
       "      <td>21.0</td>\n",
       "      <td>Computer security service</td>\n",
       "      <td>6 E 45th St Suite 400, New York, NY 10017, Uni...</td>\n",
       "      <td>+1 212-750-5420</td>\n",
       "      <td>small technology in new york city</td>\n",
       "    </tr>\n",
       "    <tr>\n",
       "      <th>4</th>\n",
       "      <td>Ziggle Tech</td>\n",
       "      <td>https://www.google.com/maps/place/Ziggle+Tech/...</td>\n",
       "      <td>https://www.ziggletech.com/</td>\n",
       "      <td>NaN</td>\n",
       "      <td>NaN</td>\n",
       "      <td>5.0</td>\n",
       "      <td>5.0</td>\n",
       "      <td>Software company</td>\n",
       "      <td>845 3rd Ave, New York, NY 10022, United States</td>\n",
       "      <td>+1 917-983-1800</td>\n",
       "      <td>small technology in new york city</td>\n",
       "    </tr>\n",
       "  </tbody>\n",
       "</table>\n",
       "</div>"
      ],
      "text/plain": [
       "                                               title  \\\n",
       "0                 New York Capital Technologies, LLC   \n",
       "1  ANGLER Technologies USA Inc - Development of A...   \n",
       "2                                   WCA Technologies   \n",
       "3                      Integrated Technology Systems   \n",
       "4                                        Ziggle Tech   \n",
       "\n",
       "                                            placeUrl  \\\n",
       "0  https://www.google.com/maps/place/New+York+Cap...   \n",
       "1  https://www.google.com/maps/place/ANGLER+Techn...   \n",
       "2  https://www.google.com/maps/place/WCA+Technolo...   \n",
       "3  https://www.google.com/maps/place/Integrated+T...   \n",
       "4  https://www.google.com/maps/place/Ziggle+Tech/...   \n",
       "\n",
       "                        website status  subtitle  rating  reviewCount  \\\n",
       "0    https://nycapitaltech.com/    NaN       NaN     5.0         12.0   \n",
       "1  https://www.angleritech.com/    NaN       NaN     NaN          NaN   \n",
       "2      https://www.wcatech.com/    NaN       NaN     5.0          2.0   \n",
       "3        http://www.itsnyc.com/    NaN       NaN     5.0         21.0   \n",
       "4   https://www.ziggletech.com/    NaN       NaN     5.0          5.0   \n",
       "\n",
       "                        category  \\\n",
       "0  Computer support and services   \n",
       "1               Software company   \n",
       "2            Computer consultant   \n",
       "3      Computer security service   \n",
       "4               Software company   \n",
       "\n",
       "                                             address      phoneNumber  \\\n",
       "0  99 Wall St suite 512, New York, NY 10005, Unit...  +1 929-277-7996   \n",
       "1  305 Madison Ave #449, New York, NY 10165, Unit...  +1 646-290-8609   \n",
       "2  1430 Broadway #602, New York, NY 10018, United...  +1 212-642-0980   \n",
       "3  6 E 45th St Suite 400, New York, NY 10017, Uni...  +1 212-750-5420   \n",
       "4     845 3rd Ave, New York, NY 10022, United States  +1 917-983-1800   \n",
       "\n",
       "                         searchQuery  \n",
       "0  small technology in new york city  \n",
       "1  small technology in new york city  \n",
       "2  small technology in new york city  \n",
       "3  small technology in new york city  \n",
       "4  small technology in new york city  "
      ]
     },
     "execution_count": 1,
     "metadata": {},
     "output_type": "execute_result"
    }
   ],
   "source": [
    "import pandas as pd \n",
    "import numpy as np \n",
    "\n",
    "df = pd.read_csv('result1.csv')\n",
    "df.head()"
   ]
  },
  {
   "cell_type": "code",
   "execution_count": 2,
   "metadata": {},
   "outputs": [],
   "source": [
    "del df['status']\n",
    "del df['subtitle']"
   ]
  },
  {
   "cell_type": "code",
   "execution_count": 3,
   "metadata": {},
   "outputs": [],
   "source": [
    "df['email'] = np.nan"
   ]
  },
  {
   "cell_type": "code",
   "execution_count": 4,
   "metadata": {},
   "outputs": [],
   "source": [
    "df.to_excel('tobemerge.xlsx')"
   ]
  },
  {
   "cell_type": "code",
   "execution_count": 5,
   "metadata": {},
   "outputs": [
    {
     "data": {
      "text/plain": [
       "(62, 10)"
      ]
     },
     "execution_count": 5,
     "metadata": {},
     "output_type": "execute_result"
    }
   ],
   "source": [
    "df.shape"
   ]
  }
 ],
 "metadata": {
  "kernelspec": {
   "display_name": "Python 3",
   "language": "python",
   "name": "python3"
  },
  "language_info": {
   "codemirror_mode": {
    "name": "ipython",
    "version": 3
   },
   "file_extension": ".py",
   "mimetype": "text/x-python",
   "name": "python",
   "nbconvert_exporter": "python",
   "pygments_lexer": "ipython3",
   "version": "3.12.4"
  }
 },
 "nbformat": 4,
 "nbformat_minor": 2
}
