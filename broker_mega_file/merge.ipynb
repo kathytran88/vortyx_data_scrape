{
 "cells": [
  {
   "cell_type": "code",
   "execution_count": 1,
   "metadata": {},
   "outputs": [
    {
     "data": {
      "text/html": [
       "<div>\n",
       "<style scoped>\n",
       "    .dataframe tbody tr th:only-of-type {\n",
       "        vertical-align: middle;\n",
       "    }\n",
       "\n",
       "    .dataframe tbody tr th {\n",
       "        vertical-align: top;\n",
       "    }\n",
       "\n",
       "    .dataframe thead th {\n",
       "        text-align: right;\n",
       "    }\n",
       "</style>\n",
       "<table border=\"1\" class=\"dataframe\">\n",
       "  <thead>\n",
       "    <tr style=\"text-align: right;\">\n",
       "      <th></th>\n",
       "      <th>Unnamed: 0</th>\n",
       "      <th>Company</th>\n",
       "      <th>First Name</th>\n",
       "      <th>Last Name</th>\n",
       "      <th>Full Name</th>\n",
       "      <th>Corporate Phone</th>\n",
       "      <th>Location</th>\n",
       "      <th>City</th>\n",
       "      <th>State</th>\n",
       "      <th>Profile Link</th>\n",
       "      <th>Email</th>\n",
       "    </tr>\n",
       "  </thead>\n",
       "  <tbody>\n",
       "    <tr>\n",
       "      <th>0</th>\n",
       "      <td>0</td>\n",
       "      <td>Business Valuations, Consulting, Sales, Funding</td>\n",
       "      <td>Wallace</td>\n",
       "      <td>Taylor</td>\n",
       "      <td>Wallace Taylor</td>\n",
       "      <td>+1 205-290-3334</td>\n",
       "      <td>Birmingham, Alabama</td>\n",
       "      <td>Birmingham</td>\n",
       "      <td>Alabama</td>\n",
       "      <td>https://www.bizquest.com/business-broker/busin...</td>\n",
       "      <td>NaN</td>\n",
       "    </tr>\n",
       "    <tr>\n",
       "      <th>1</th>\n",
       "      <td>1</td>\n",
       "      <td>Sunbelt Business Brokers</td>\n",
       "      <td>Gary</td>\n",
       "      <td>Wallace</td>\n",
       "      <td>Gary Wallace</td>\n",
       "      <td>+1 205-602-5827</td>\n",
       "      <td>Birmingham, Alabama</td>\n",
       "      <td>Birmingham</td>\n",
       "      <td>Alabama</td>\n",
       "      <td>https://www.bizquest.com/business-broker/sunbe...</td>\n",
       "      <td>NaN</td>\n",
       "    </tr>\n",
       "    <tr>\n",
       "      <th>2</th>\n",
       "      <td>2</td>\n",
       "      <td>Business Resource</td>\n",
       "      <td>Wilson</td>\n",
       "      <td>Archer</td>\n",
       "      <td>Wilson Archer</td>\n",
       "      <td>+1 208-870-1717</td>\n",
       "      <td>Mountain Brook, Alabama</td>\n",
       "      <td>Mountain Brook</td>\n",
       "      <td>Alabama</td>\n",
       "      <td>https://www.bizquest.com/business-broker/busin...</td>\n",
       "      <td>NaN</td>\n",
       "    </tr>\n",
       "    <tr>\n",
       "      <th>3</th>\n",
       "      <td>3</td>\n",
       "      <td>Optics Capital LLC</td>\n",
       "      <td>Alex</td>\n",
       "      <td>McGinty</td>\n",
       "      <td>Alex Mcginty</td>\n",
       "      <td>+1 205-514-1382</td>\n",
       "      <td>Birmingham, Alabama</td>\n",
       "      <td>Birmingham</td>\n",
       "      <td>Alabama</td>\n",
       "      <td>https://www.bizquest.com/business-broker/optic...</td>\n",
       "      <td>NaN</td>\n",
       "    </tr>\n",
       "    <tr>\n",
       "      <th>4</th>\n",
       "      <td>4</td>\n",
       "      <td>isellrestaurantsandbars.com</td>\n",
       "      <td>Randy</td>\n",
       "      <td>Shurbet</td>\n",
       "      <td>Randy Shurbet</td>\n",
       "      <td>+1 251-600-9397</td>\n",
       "      <td>Foley, Alabama</td>\n",
       "      <td>Foley</td>\n",
       "      <td>Alabama</td>\n",
       "      <td>https://www.bizquest.com/business-broker/isell...</td>\n",
       "      <td>NaN</td>\n",
       "    </tr>\n",
       "  </tbody>\n",
       "</table>\n",
       "</div>"
      ],
      "text/plain": [
       "   Unnamed: 0                                          Company First Name  \\\n",
       "0           0  Business Valuations, Consulting, Sales, Funding    Wallace   \n",
       "1           1                         Sunbelt Business Brokers       Gary   \n",
       "2           2                                Business Resource     Wilson   \n",
       "3           3                               Optics Capital LLC       Alex   \n",
       "4           4                      isellrestaurantsandbars.com      Randy   \n",
       "\n",
       "  Last Name       Full Name  Corporate Phone                 Location  \\\n",
       "0    Taylor  Wallace Taylor  +1 205-290-3334      Birmingham, Alabama   \n",
       "1   Wallace    Gary Wallace  +1 205-602-5827      Birmingham, Alabama   \n",
       "2    Archer   Wilson Archer  +1 208-870-1717  Mountain Brook, Alabama   \n",
       "3   McGinty    Alex Mcginty  +1 205-514-1382      Birmingham, Alabama   \n",
       "4   Shurbet   Randy Shurbet  +1 251-600-9397           Foley, Alabama   \n",
       "\n",
       "             City     State  \\\n",
       "0      Birmingham   Alabama   \n",
       "1      Birmingham   Alabama   \n",
       "2  Mountain Brook   Alabama   \n",
       "3      Birmingham   Alabama   \n",
       "4           Foley   Alabama   \n",
       "\n",
       "                                        Profile Link Email  \n",
       "0  https://www.bizquest.com/business-broker/busin...   NaN  \n",
       "1  https://www.bizquest.com/business-broker/sunbe...   NaN  \n",
       "2  https://www.bizquest.com/business-broker/busin...   NaN  \n",
       "3  https://www.bizquest.com/business-broker/optic...   NaN  \n",
       "4  https://www.bizquest.com/business-broker/isell...   NaN  "
      ]
     },
     "execution_count": 1,
     "metadata": {},
     "output_type": "execute_result"
    }
   ],
   "source": [
    "import pandas as pd \n",
    "import numpy as np\n",
    "import glob \n",
    "\n",
    "excel_files = glob.glob('./files/*.xlsx')\n",
    "all_df = []\n",
    "for file in excel_files:\n",
    "    dfs = pd.read_excel(file)\n",
    "    all_df.append(dfs)\n",
    "\n",
    "df = pd.concat(all_df, ignore_index = True)\n",
    "df.head()"
   ]
  },
  {
   "cell_type": "code",
   "execution_count": 2,
   "metadata": {},
   "outputs": [
    {
     "data": {
      "text/plain": [
       "(13147, 10)"
      ]
     },
     "execution_count": 2,
     "metadata": {},
     "output_type": "execute_result"
    }
   ],
   "source": [
    "del df['Unnamed: 0']\n",
    "df.shape"
   ]
  },
  {
   "cell_type": "code",
   "execution_count": 5,
   "metadata": {},
   "outputs": [
    {
     "data": {
      "text/plain": [
       "(13147, 10)"
      ]
     },
     "execution_count": 5,
     "metadata": {},
     "output_type": "execute_result"
    }
   ],
   "source": [
    "df.drop_duplicates(subset=['Corporate Phone'], keep='first')\n",
    "df.shape"
   ]
  },
  {
   "cell_type": "code",
   "execution_count": 7,
   "metadata": {},
   "outputs": [],
   "source": [
    "df = df.sort_values(by='Full Name')"
   ]
  },
  {
   "cell_type": "code",
   "execution_count": 8,
   "metadata": {},
   "outputs": [],
   "source": [
    "df.to_excel('merge.xlsx')"
   ]
  },
  {
   "cell_type": "code",
   "execution_count": 9,
   "metadata": {},
   "outputs": [
    {
     "data": {
      "text/plain": [
       "(6691, 10)"
      ]
     },
     "execution_count": 9,
     "metadata": {},
     "output_type": "execute_result"
    }
   ],
   "source": [
    "df = df.drop_duplicates(subset='Corporate Phone', keep='first')\n",
    "df.shape"
   ]
  }
 ],
 "metadata": {
  "kernelspec": {
   "display_name": "Python 3",
   "language": "python",
   "name": "python3"
  },
  "language_info": {
   "codemirror_mode": {
    "name": "ipython",
    "version": 3
   },
   "file_extension": ".py",
   "mimetype": "text/x-python",
   "name": "python",
   "nbconvert_exporter": "python",
   "pygments_lexer": "ipython3",
   "version": "3.12.1"
  }
 },
 "nbformat": 4,
 "nbformat_minor": 2
}
